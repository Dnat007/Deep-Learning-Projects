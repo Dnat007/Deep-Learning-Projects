{
 "cells": [
  {
   "cell_type": "code",
   "execution_count": 1,
   "id": "4b99e749",
   "metadata": {},
   "outputs": [],
   "source": [
    "import numpy as np\n",
    "import pandas as pd"
   ]
  },
  {
   "cell_type": "code",
   "execution_count": 2,
   "id": "ece72e04",
   "metadata": {},
   "outputs": [],
   "source": [
    "import keras\n",
    "from keras.models import Sequential\n",
    "from keras.layers import Conv2D,Flatten,Dense,MaxPooling2D,Dropout\n",
    "from sklearn.metrics import accuracy_score"
   ]
  },
  {
   "cell_type": "code",
   "execution_count": 3,
   "id": "da30e880",
   "metadata": {},
   "outputs": [],
   "source": [
    "from PIL import Image\n",
    "import tqdm\n",
    "from sklearn.model_selection import train_test_split\n",
    "import cv2\n",
    "from sklearn.utils import shuffle\n",
    "import tensorflow as tf\n",
    "import os"
   ]
  },
  {
   "cell_type": "code",
   "execution_count": 4,
   "id": "cef51e47",
   "metadata": {},
   "outputs": [],
   "source": [
    "X_train = []\n",
    "Y_train = []\n",
    "image_size = 150\n",
    "labels = ['glioma_tumor','meningioma_tumor','no_tumor','pituitary_tumor']\n",
    "for i in labels:\n",
    "    folderPath = os.path.join('Training',i)\n",
    "    for j in os.listdir(folderPath):\n",
    "        img = cv2.imread(os.path.join(folderPath,j))\n",
    "        img = cv2.resize(img,(image_size,image_size))\n",
    "        X_train.append(img)\n",
    "        Y_train.append(i)\n",
    "        \n",
    "for i in labels:\n",
    "    folderPath = os.path.join('Testing',i)\n",
    "    for j in os.listdir(folderPath):\n",
    "        img = cv2.imread(os.path.join(folderPath,j))\n",
    "        img = cv2.resize(img,(image_size,image_size))\n",
    "        X_train.append(img)\n",
    "        Y_train.append(i)\n",
    "\n",
    "X_train = np.array(X_train)\n",
    "Y_train = np.array(Y_train)"
   ]
  },
  {
   "cell_type": "code",
   "execution_count": 5,
   "id": "b416db72",
   "metadata": {},
   "outputs": [
    {
     "data": {
      "text/plain": [
       "(3264, 150, 150, 3)"
      ]
     },
     "execution_count": 5,
     "metadata": {},
     "output_type": "execute_result"
    }
   ],
   "source": [
    "X_train,Y_train = shuffle(X_train,Y_train,random_state=101)\n",
    "X_train.shape"
   ]
  },
  {
   "cell_type": "code",
   "execution_count": 6,
   "id": "2a68c0c5",
   "metadata": {},
   "outputs": [],
   "source": [
    "X_train,X_test,y_train,y_test = train_test_split(X_train,Y_train,test_size=0.1,random_state=101)"
   ]
  },
  {
   "cell_type": "code",
   "execution_count": 7,
   "id": "d1094469",
   "metadata": {},
   "outputs": [],
   "source": [
    "y_train_new = []\n",
    "for i in y_train:\n",
    "    y_train_new.append(labels.index(i))\n",
    "y_train=y_train_new\n",
    "y_train = tf.keras.utils.to_categorical(y_train)\n",
    "\n",
    "y_test_new = []\n",
    "for i in y_test:\n",
    "    y_test_new.append(labels.index(i))\n",
    "y_test=y_test_new\n",
    "y_test = tf.keras.utils.to_categorical(y_test)"
   ]
  },
  {
   "cell_type": "code",
   "execution_count": 8,
   "id": "cdbaaed5",
   "metadata": {},
   "outputs": [],
   "source": [
    "model = Sequential()\n",
    "model.add(Conv2D(32,(3,3),activation = 'relu',input_shape=(150,150,3)))\n",
    "model.add(Conv2D(64,(3,3),activation='relu'))\n",
    "model.add(MaxPooling2D(2,2))\n",
    "model.add(Dropout(0.2))\n",
    "model.add(Conv2D(64,(3,3),activation='relu'))\n",
    "model.add(Conv2D(64,(3,3),activation='relu'))\n",
    "model.add(Dropout(0.3))\n",
    "model.add(MaxPooling2D(2,2))\n",
    "model.add(Dropout(0.3))\n",
    "model.add(Conv2D(128,(3,3),activation='relu'))\n",
    "model.add(Conv2D(128,(3,3),activation='relu'))\n",
    "model.add(Conv2D(128,(3,3),activation='relu'))\n",
    "model.add(MaxPooling2D(2,2))\n",
    "model.add(Dropout(0.25))\n",
    "model.add(Conv2D(128,(3,3),activation='relu'))\n",
    "model.add(Conv2D(256,(3,3),activation='relu'))\n",
    "model.add(MaxPooling2D(2,2))\n",
    "model.add(Dropout(0.3))\n",
    "model.add(Flatten())\n",
    "model.add(Dense(512,activation = 'relu'))\n",
    "model.add(Dense(512,activation = 'relu'))\n",
    "model.add(Dropout(0.3))\n",
    "model.add(Dense(4,activation='softmax'))"
   ]
  },
  {
   "cell_type": "code",
   "execution_count": 9,
   "id": "9450fe52",
   "metadata": {},
   "outputs": [
    {
     "name": "stdout",
     "output_type": "stream",
     "text": [
      "Model: \"sequential\"\n",
      "_________________________________________________________________\n",
      " Layer (type)                Output Shape              Param #   \n",
      "=================================================================\n",
      " conv2d (Conv2D)             (None, 148, 148, 32)      896       \n",
      "                                                                 \n",
      " conv2d_1 (Conv2D)           (None, 146, 146, 64)      18496     \n",
      "                                                                 \n",
      " max_pooling2d (MaxPooling2D  (None, 73, 73, 64)       0         \n",
      " )                                                               \n",
      "                                                                 \n",
      " dropout (Dropout)           (None, 73, 73, 64)        0         \n",
      "                                                                 \n",
      " conv2d_2 (Conv2D)           (None, 71, 71, 64)        36928     \n",
      "                                                                 \n",
      " conv2d_3 (Conv2D)           (None, 69, 69, 64)        36928     \n",
      "                                                                 \n",
      " dropout_1 (Dropout)         (None, 69, 69, 64)        0         \n",
      "                                                                 \n",
      " max_pooling2d_1 (MaxPooling  (None, 34, 34, 64)       0         \n",
      " 2D)                                                             \n",
      "                                                                 \n",
      " dropout_2 (Dropout)         (None, 34, 34, 64)        0         \n",
      "                                                                 \n",
      " conv2d_4 (Conv2D)           (None, 32, 32, 128)       73856     \n",
      "                                                                 \n",
      " conv2d_5 (Conv2D)           (None, 30, 30, 128)       147584    \n",
      "                                                                 \n",
      " conv2d_6 (Conv2D)           (None, 28, 28, 128)       147584    \n",
      "                                                                 \n",
      " max_pooling2d_2 (MaxPooling  (None, 14, 14, 128)      0         \n",
      " 2D)                                                             \n",
      "                                                                 \n",
      " dropout_3 (Dropout)         (None, 14, 14, 128)       0         \n",
      "                                                                 \n",
      " conv2d_7 (Conv2D)           (None, 12, 12, 128)       147584    \n",
      "                                                                 \n",
      " conv2d_8 (Conv2D)           (None, 10, 10, 256)       295168    \n",
      "                                                                 \n",
      " max_pooling2d_3 (MaxPooling  (None, 5, 5, 256)        0         \n",
      " 2D)                                                             \n",
      "                                                                 \n",
      " dropout_4 (Dropout)         (None, 5, 5, 256)         0         \n",
      "                                                                 \n",
      " flatten (Flatten)           (None, 6400)              0         \n",
      "                                                                 \n",
      " dense (Dense)               (None, 512)               3277312   \n",
      "                                                                 \n",
      " dense_1 (Dense)             (None, 512)               262656    \n",
      "                                                                 \n",
      " dropout_5 (Dropout)         (None, 512)               0         \n",
      "                                                                 \n",
      " dense_2 (Dense)             (None, 4)                 2052      \n",
      "                                                                 \n",
      "=================================================================\n",
      "Total params: 4,447,044\n",
      "Trainable params: 4,447,044\n",
      "Non-trainable params: 0\n",
      "_________________________________________________________________\n"
     ]
    }
   ],
   "source": [
    "model.summary()"
   ]
  },
  {
   "cell_type": "code",
   "execution_count": 10,
   "id": "1c6b5e7b",
   "metadata": {},
   "outputs": [],
   "source": [
    "model.compile(loss='categorical_crossentropy',optimizer='Adam',metrics=['accuracy'])\n"
   ]
  },
  {
   "cell_type": "code",
   "execution_count": 11,
   "id": "bd21e5d0",
   "metadata": {},
   "outputs": [
    {
     "name": "stdout",
     "output_type": "stream",
     "text": [
      "Epoch 1/20\n",
      "83/83 [==============================] - 275s 3s/step - loss: 1.8811 - accuracy: 0.2898 - val_loss: 1.3614 - val_accuracy: 0.2891\n",
      "Epoch 2/20\n",
      "83/83 [==============================] - 269s 3s/step - loss: 1.2136 - accuracy: 0.4423 - val_loss: 1.0932 - val_accuracy: 0.5068\n",
      "Epoch 3/20\n",
      "83/83 [==============================] - 251s 3s/step - loss: 0.9928 - accuracy: 0.5475 - val_loss: 0.9076 - val_accuracy: 0.5986\n",
      "Epoch 4/20\n",
      "83/83 [==============================] - 244s 3s/step - loss: 0.8649 - accuracy: 0.6133 - val_loss: 0.8966 - val_accuracy: 0.6088\n",
      "Epoch 5/20\n",
      "83/83 [==============================] - 245s 3s/step - loss: 0.7701 - accuracy: 0.6735 - val_loss: 0.7217 - val_accuracy: 0.7007\n",
      "Epoch 6/20\n",
      "83/83 [==============================] - 239s 3s/step - loss: 0.6437 - accuracy: 0.7272 - val_loss: 0.7540 - val_accuracy: 0.6599\n",
      "Epoch 7/20\n",
      "83/83 [==============================] - 252s 3s/step - loss: 0.6264 - accuracy: 0.7378 - val_loss: 0.6672 - val_accuracy: 0.7279\n",
      "Epoch 8/20\n",
      "83/83 [==============================] - 257s 3s/step - loss: 0.5212 - accuracy: 0.7915 - val_loss: 0.4945 - val_accuracy: 0.8367\n",
      "Epoch 9/20\n",
      "83/83 [==============================] - 267s 3s/step - loss: 0.4801 - accuracy: 0.8097 - val_loss: 0.8263 - val_accuracy: 0.6633\n",
      "Epoch 10/20\n",
      "83/83 [==============================] - 273s 3s/step - loss: 0.3924 - accuracy: 0.8453 - val_loss: 0.4406 - val_accuracy: 0.7993\n",
      "Epoch 11/20\n",
      "83/83 [==============================] - 251s 3s/step - loss: 0.3491 - accuracy: 0.8596 - val_loss: 0.5093 - val_accuracy: 0.8061\n",
      "Epoch 12/20\n",
      "83/83 [==============================] - 250s 3s/step - loss: 0.3291 - accuracy: 0.8717 - val_loss: 0.4166 - val_accuracy: 0.8605\n",
      "Epoch 13/20\n",
      "83/83 [==============================] - 255s 3s/step - loss: 0.2958 - accuracy: 0.8933 - val_loss: 0.4516 - val_accuracy: 0.8605\n",
      "Epoch 14/20\n",
      "83/83 [==============================] - 318s 4s/step - loss: 0.2742 - accuracy: 0.8994 - val_loss: 0.4379 - val_accuracy: 0.8503\n",
      "Epoch 15/20\n",
      "83/83 [==============================] - 307s 4s/step - loss: 0.2224 - accuracy: 0.9187 - val_loss: 0.4131 - val_accuracy: 0.8707\n",
      "Epoch 16/20\n",
      "83/83 [==============================] - 304s 4s/step - loss: 0.2189 - accuracy: 0.9183 - val_loss: 0.2760 - val_accuracy: 0.8878\n",
      "Epoch 17/20\n",
      "83/83 [==============================] - 301s 4s/step - loss: 0.1769 - accuracy: 0.9342 - val_loss: 0.3936 - val_accuracy: 0.8673\n",
      "Epoch 18/20\n",
      "83/83 [==============================] - 335s 4s/step - loss: 0.1850 - accuracy: 0.9349 - val_loss: 0.3500 - val_accuracy: 0.8844\n",
      "Epoch 19/20\n",
      "83/83 [==============================] - 356s 4s/step - loss: 0.1517 - accuracy: 0.9436 - val_loss: 0.4029 - val_accuracy: 0.8776\n",
      "Epoch 20/20\n",
      "83/83 [==============================] - 345s 4s/step - loss: 0.1467 - accuracy: 0.9455 - val_loss: 0.3213 - val_accuracy: 0.8844\n"
     ]
    }
   ],
   "source": [
    "history = model.fit(X_train,y_train,epochs=20,validation_split=0.1)"
   ]
  },
  {
   "cell_type": "code",
   "execution_count": 12,
   "id": "0a326652",
   "metadata": {},
   "outputs": [],
   "source": [
    "import matplotlib.pyplot as plt\n",
    "import seaborn as sns"
   ]
  },
  {
   "cell_type": "code",
   "execution_count": 13,
   "id": "b806f0f6",
   "metadata": {},
   "outputs": [
    {
     "data": {
      "image/png": "[encoded data removed]",
      "text/plain": [
       "<Figure size 360x360 with 1 Axes>"
      ]
     },
     "metadata": {
      "needs_background": "light"
     },
     "output_type": "display_data"
    }
   ],
   "source": [
    "acc = history.history['accuracy']\n",
    "val_acc = history.history['val_accuracy']\n",
    "epochs = range(len(acc))\n",
    "fig = plt.figure(figsize=(5,5))\n",
    "plt.plot(epochs,acc,'r',label=\"Training Accuracy\")\n",
    "plt.plot(epochs,val_acc,'b',label=\"Validation Accuracy\")\n",
    "plt.legend(loc='upper left')\n",
    "plt.show()"
   ]
  },
  {
   "cell_type": "code",
   "execution_count": 14,
   "id": "8a9e9d64",
   "metadata": {},
   "outputs": [
    {
     "data": {
      "image/png": "[encoded data removed]",
      "text/plain": [
       "<Figure size 360x360 with 1 Axes>"
      ]
     },
     "metadata": {
      "needs_background": "light"
     },
     "output_type": "display_data"
    }
   ],
   "source": [
    "loss = history.history['loss']\n",
    "val_loss = history.history['val_loss']\n",
    "epochs = range(len(loss))\n",
    "fig = plt.figure(figsize=(5,5))\n",
    "plt.plot(epochs,loss,'r',label=\"Training loss\")\n",
    "plt.plot(epochs,val_loss,'b',label=\"Validation loss\")\n",
    "plt.legend(loc='upper left')\n",
    "plt.show()"
   ]
  },
  {
   "cell_type": "code",
   "execution_count": 15,
   "id": "9a42b79a",
   "metadata": {},
   "outputs": [],
   "source": [
    "from tensorflow.keras.models import load_model"
   ]
  },
  {
   "cell_type": "code",
   "execution_count": 16,
   "id": "a68e53fa",
   "metadata": {},
   "outputs": [],
   "source": [
    "model.save('mri_prediction1.h5')"
   ]
  },
  {
   "cell_type": "code",
   "execution_count": 17,
   "id": "5b99c288",
   "metadata": {},
   "outputs": [],
   "source": [
    "from tensorflow.keras.models import load_model\n",
    "from tensorflow.keras.preprocessing import image"
   ]
  },
  {
   "cell_type": "code",
   "execution_count": 18,
   "id": "546cb7d5",
   "metadata": {},
   "outputs": [],
   "source": [
    "new_model = load_model('mri_prediction1.h5')"
   ]
  },
  {
   "cell_type": "code",
   "execution_count": 19,
   "id": "1028ff18",
   "metadata": {},
   "outputs": [
    {
     "data": {
      "text/plain": [
       "(1, 150, 150, 3)"
      ]
     },
     "execution_count": 19,
     "metadata": {},
     "output_type": "execute_result"
    }
   ],
   "source": [
    "img_new = cv2.imread('Testing/no_tumor/image(101).jpg')\n",
    "img_new = cv2.resize(img_new,(150,150))\n",
    "img_array1 = np.array(img_new)\n",
    "img_array1 = img_array1.reshape(1,150,150,3)\n",
    "img_array1.shape"
   ]
  },
  {
   "cell_type": "code",
   "execution_count": 20,
   "id": "5ff26382",
   "metadata": {},
   "outputs": [
    {
     "data": {
      "text/plain": [
       "2"
      ]
     },
     "execution_count": 20,
     "metadata": {},
     "output_type": "execute_result"
    }
   ],
   "source": [
    "a1 = new_model.predict(img_array1)\n",
    "indices = a1.argmax()\n",
    "indices"
   ]
  },
  {
   "cell_type": "code",
   "execution_count": 21,
   "id": "3ec7e7ed",
   "metadata": {},
   "outputs": [
    {
     "name": "stdout",
     "output_type": "stream",
     "text": [
      "no_tumor\n"
     ]
    }
   ],
   "source": [
    "if indices == 0:\n",
    "    print('glioma_tumor')\n",
    "elif indices == 1:\n",
    "    print('meningioma_tumor')\n",
    "    \n",
    "elif indices == 2:\n",
    "    print('no_tumor')\n",
    "elif indices ==3:\n",
    "    print('pituitary_tumor')"
   ]
  },
  {
   "cell_type": "code",
   "execution_count": null,
   "id": "decf3859",
   "metadata": {},
   "outputs": [],
   "source": [
    "\n"
   ]
  }
 ],
 "metadata": {
  "kernelspec": {
   "display_name": "Python 3 (ipykernel)",
   "language": "python",
   "name": "python3"
  },
  "language_info": {
   "codemirror_mode": {
    "name": "ipython",
    "version": 3
   },
   "file_extension": ".py",
   "mimetype": "text/x-python",
   "name": "python",
   "nbconvert_exporter": "python",
   "pygments_lexer": "ipython3",
   "version": "3.9.7"
  }
 },
 "nbformat": 4,
 "nbformat_minor": 5
}
